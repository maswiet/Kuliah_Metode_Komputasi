{
 "cells": [
  {
   "cell_type": "markdown",
   "metadata": {},
   "source": [
    "![Ilustrasi](Gambar/science_.png)\n",
    "![Ilustrasi](Gambar/antarctica.png)\n",
    "Gambar diambil dari http://users.ices.utexas.edu/~noemi/teaching.html\n",
    "\n",
    "\n",
    "# Motivasi\n",
    "\n",
    "Kuliah metode komputasi ini akan memberikan dasar-dasar kemampuan untuk membuat program (*coding/scripting*), untuk mahasiswa Geofisika pada tahun pertama, sebagai bekal yang nanti akan dipakai pada saat mulai menggunakan aplikasi-aplikasi untuk pengolahan data geofisika atau untuk pemodelan. Sering saya gambarkan bahwa komputasi saat ini merupakan 1/3 dari kemampuan yang harus dimiliki oleh **geophysicists** handal. Sepertiga yang lainnya adalah pemahaman atas kosep-konsep fisika, dan sepertiga terakhir adalah pengetahuan geologi. Memang tidak harus semua dikuasai, tergantung dari minat, bakat dan *passion* masing-masing mahasiswa, tapi kalau boleh saya memberikan motivasi, bahwa menyenangi komputasi di jaman sekarang sangat membantu kita untuk memperkuat [portofolio](https://id.wikipedia.org/wiki/Portofolio#Dalam_dunia_pendidikan) kita sehingga semakin banyak bidang yang dapat memanfaatkan kemampuan komputasi kita ini. Ada alumni geofisika yang bekerja di perusahaan farmasi Amerika, karena kemampuan komputasi ini (Dulu menjadi asisten Praktikum Metkom ini he he he).\n",
    "\n",
    "Menjadi programmer, Anda akan belajar bagaimana dalam satu waktu menjadi scientist, engineer dan mathematicians. Sebagai programmer kita dituntut untuk dapat mengungkapkan masalah dalam simbol-simbol (matematik), melakukan desain dengan menyusun unsur-unsur program menjadi sebuah sistem seperti engineer, dan menguji dengan hipotesis dan ekperimen seperti ilmuwan.\n",
    "\n",
    "Meniru cara Google merekrut pegawainya, sebuah Bank Daerah di Jawa Tengah suatu ketika menbuat iklan rekruitmen pegawai dengan cara unik seperti pada gambar di bawah ini. Tidak seperti umumnya iklan lowongan pekerjaan yang memberi judul \"Lowongan Pekerjaan\", cara yang dilakukan ini merupakan cara cerdas merekrut programmer tanpa banyak prosedur. \"Lu bisa baca program ini, you may get the job!\" Begitu kira-kira pesan yang ingin diberikan dari iklan warna biru di koran KR Jogya tersebut. Saya pastikan jika Anda fokus, semangat mengikuti kuliah ini, pekerjaan sebagi programmer di Bank Daerah tersebut dapat menjadi alternatif yang menarik.\n",
    "\n",
    "\n",
    "![Koran KR](Gambar/Koran_KR.jpg) ![zoom_kr](Gambar/KR_zoom.jpg)"
   ]
  },
  {
   "cell_type": "markdown",
   "metadata": {},
   "source": [
    "## Isi kuliah\n",
    "Minggu ini kita akan belajar materi tentang:\n",
    "- Kedudukan Metkom di Geofisika\n",
    "- Mengenal berbagai macam bahasa pemrograman\n",
    "- Mengenal Python\n",
    "- Installasi Python dan beberapa interface via Windows, Linux Mac OS or Web-based"
   ]
  },
  {
   "cell_type": "markdown",
   "metadata": {},
   "source": [
    "## Kedudukan Metkom di geofisika\n",
    "\n",
    "Ada yang pernah mengatakan bahwa permasalahan di geofisika adalah problem inversi\n",
    "![marescot](./Gambar/Marescot_.png)\n",
    "\n",
    "Gambar diambil dari kuliah inversi Marescot, 2010 http://www.tomoquest.com/attachments/File/Marescot_Intro_to_Inversion_UNIFR_19042010.pdf"
   ]
  },
  {
   "cell_type": "markdown",
   "metadata": {},
   "source": [
    "Perhatikan ilustrasi diatas. Tugas seorang geofisikawan diantaranya adalah menentukan besarnya parameter fisika (dalam hal ini resistivitas) dari batuan menurut kedalamannya. Nah proses untuk mendapatkannya memerlukan sebuah perhitungan dengan komputer, yang dikenal dengan istilah inversi, yaitu mendapatkan model fisika, dari data pengukuran di lapangan. Jelas untuk dapat mengerjakan tugas ini, kemampuan komputasi menjadi sangat penting kedudukannya, iya, khan? \n",
    "\n",
    "Atau misalnya ketika kita tiba-tiba diminta untuk membantu industri atau lembaga Pemerintah, untuk mencari letak pusat gempa mikro atau karakterisasi sinyal mikrotremor, maka mau tidak mau kemampuan komputasi, khususnya pengolahan sinyal harus kita miliki.    "
   ]
  },
  {
   "cell_type": "markdown",
   "metadata": {},
   "source": [
    "O, iya untuk menambah motivasi, saya coba tunjukkan betapa berharganya kemampuan komputasi ini. Dalam hal Python saja, lebih dari [50 pekerjaan](https://www.python.org/jobs/) ditawarkan setiap harinya bagi siapa saja yang memiliki kemampuan pemrograman ini. Tentunya dengan standar gaji insinyur di luar negeri untuk fresh grad sekitar ~50 - 100 jt sebulan. Dengan menekuni programming, batas-batas geografis menjadi tidak ada lagi, bahkan kita bisa mengerjakan project dengan kantor yang berbasis di Korea Selatan hanya dari ruang tidur kita. Menarik, bukan?"
   ]
  },
  {
   "cell_type": "markdown",
   "metadata": {},
   "source": [
    "## Bermacam-macam jenis bahasa pemrograman\n",
    "\n",
    "Dalam kuliah ini akan diajarkan 2 macam bahasa pemrograman, yaitu Python dan Matlab. Keduanya termasuk jenis \"bahasa pemrograman tingkat tinggi\" yang populer. Ya saya istilahkan kalau slogan driver \"Real man use three pedals\" for Python users vs \"rich man use two pedals\" for Matlab wkwkkw guyon... Ha ha ha iya karena yang satu gratis, yang satunya bayar. Tapi sekarang karena gempuran Python ini, harga Matlab menjadi \"jatuh\". Untuk mahasiswa, bisa hanya seharga 2 Wagyu Steak di Waroeng Steak & Shake! Contoh yang lain dari bahasa pemrograman jenis ini adalah [C](https://en.wikipedia.org/wiki/The_C_Programming_Language), [C++](https://en.wikipedia.org/wiki/C%2B%2B), [Perl](https://en.wikipedia.org/wiki/Perl) dan [Java](https://www.java.com/en/). Selain itu ada jenis bahasa pemrograman tingkat rendah (low-level languages), atau disebut juga dengan bahasa mesin, diantaranya [Assembler](https://en.wikipedia.org/wiki/Assembly_language). Sejatinya, komputer hanya bisa diperintah menggunakan bahasa tingkat rendah. Jadi, program dalam bahasa tingkat tinggi, harus diterjemahkan terlebih dahulu menjadi bahasa tingkat rendah, baru kemudian disampaikan kepada komputer.\n",
    "\n",
    "![compiler](./Gambar/Compiler_.png)\n",
    "\n",
    "Dahulu, saat kecepatan komputer masih sangat rendah, dibandingkan dengan saat ini, bahasa Assembler disukai karena dengan cepat dapat dieksekusi oleh komputer. Bahasa tingkat tinggi saat itu seperti BASIC atau FORTRAN memerlukan waktu yang lebih lama untuk sampai pada hasil komputasinya. Namun saat ini, ketika kecepatan komputer berjuta lipat dari jaman dahulu, tidak lagi signifikan waktu yang diperlukan untuk menerjemahkan dari bahasa tingkat tinggi ke tingkat rendah. Justru dengan bahasa tingkat tinggi ini, orang lebih mudah dalam memprogram."
   ]
  },
  {
   "cell_type": "markdown",
   "metadata": {},
   "source": [
    "# Mengenal Python\n",
    "\n",
    "Apakah Python itu? Yang pertama terlintas bagi yang belum mengenal bahasa ini biasanya adalah Ular! Iya ular Python. Saya sendiri belum lama baru *ngeh* bahwa Python itu nama grup lawak di Inggris, [Monthy Python](https://en.wikipedia.org/wiki/Monty_Python). Iya kalau di Indonesia jaman saya dulu terkenal Warkop DKI. O, iya di Indonesia sejak jaman saya kecil dulu ada monolog lawak yang legendaris, Basiyo, kemudian muncul grup-grup lawak, seperti Jayakarta Grup, Warkop DKI dan dulu saya suka sekali mendengarkan banyolan-banyolan mereka melalui kaset recorder. Berikut daftar [grup lawak legendaris](https://www.goodnewsfromindonesia.id/2016/04/11/7-grup-lawak-legendaris-indonesia) di Indonesia.\n",
    "\n",
    "![warkop_dki](http://images.detik.com/content/2012/08/16/1383/102658_warkop1.jpg)\n",
    "\n",
    "Saya menduga pembuat bahasa Python ini, yaitu Pak [Guido van Rossum](https://en.wikipedia.org/wiki/Guido_van_Rossum) suka humor, jadi sering mendengarkan banyolan grup lawak Inggris ini. Padahal dia orang Belanda lho.. Bahasa ini dirilis pertama kali tahun 1991. Setelah membesarkan Python selama lebih dari 30 tahun, akhirnya [Pak Guido mundur pada tahun 2018](https://www.theinquirer.net/inquirer/news/3035842/python-boss-guido-van-rossum-steps-down-after-30-years).\n",
    "\n",
    "Saat ini, mungkin Python merupakan bahasa pemrograman yang paling berpengaruh, dan digunakan oleh banyak industri untuk pengembangan softwarenya. Kalau mau tahu lebih banyak mengenai siapa saja pemakai Python, silahkan ikuti [tautan ini](https://www.faridrifaie.my.id/2019/01/who-uses-python-programming.html)."
   ]
  },
  {
   "cell_type": "markdown",
   "metadata": {},
   "source": [
    "# Installasi Python\n",
    "\n",
    "Instalasi Python sangat mudah. Tinggal klik klik next next yes yes .. selesai. Tergantung dari sistem operasinya apa, apakah Windows, Linux atau MacOS. Untuk mendapatkan program Python, silahkan masuk ke [website Python](https://www.python.org/downloads/).\n",
    "\n",
    "![python](./Gambar/python_org.png)\n",
    "\n",
    "Setelah mengunduh file installasi, selanjutnya proses installasi seperti biasanya sampai finished. Selanjutnya mungkin lingkungan sistem pemrograman bisa disetel agar mengenali jalur ke program pythonnya. Lihat Setting Environmental variable di sistem Windows.\n",
    "\n",
    "Di MacOs juga mudah, tinggal dipilih file installasi yang sesuai *.pkg* kemudian secara otomatis sistem akan menginstall dalam aplikasi. Sesuaikan path dalam .bashrc untuk setting environmental systemnya.\n",
    "\n",
    "Di linux sudah native secara otomatis Python biasanya sudah terinstal dengan rapi di sistem. Jadi nothing to do!\n"
   ]
  },
  {
   "cell_type": "markdown",
   "metadata": {},
   "source": [
    "Beberapa tampilan interface Python\n",
    "\n",
    "![ipython](Gambar/ipython.png)\n",
    "\n",
    "![pythonwin](Gambar/python_win.png)"
   ]
  },
  {
   "cell_type": "markdown",
   "metadata": {},
   "source": [
    "Bisa juga menginstall [Jupyter](https://jupyter.org/) notebook sehingga kompatibel dengan materi yang kami siapkan untuk meteri kuliah ini.\n"
   ]
  },
  {
   "cell_type": "code",
   "execution_count": null,
   "metadata": {},
   "outputs": [],
   "source": []
  }
 ],
 "metadata": {
  "kernelspec": {
   "display_name": "Python 3",
   "language": "python",
   "name": "python3"
  },
  "language_info": {
   "codemirror_mode": {
    "name": "ipython",
    "version": 3
   },
   "file_extension": ".py",
   "mimetype": "text/x-python",
   "name": "python",
   "nbconvert_exporter": "python",
   "pygments_lexer": "ipython3",
   "version": "3.6.4"
  }
 },
 "nbformat": 4,
 "nbformat_minor": 2
}
