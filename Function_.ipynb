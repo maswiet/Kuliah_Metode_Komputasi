{
 "cells": [
  {
   "cell_type": "markdown",
   "metadata": {},
   "source": [
    "# Perintah Loop dan Membuat Fungsi\n",
    "\n",
    "## Looping dan Keputusan hasil logika (```for end; if then elif else```)\n",
    "\n",
    "Dalam sebuah perhitungan dengan komputer, seringkali kita berhadapan dengan keadaan dimana kita perlu menghitung sesuatu secara berulang. Misalnya, pada saat menghitung nilai medan gravitasi pada sebuah titik akibat adanya benda anomali di bawah permukaan bumi, maka kita perlu mengulang-ulang perhitungan (menggunakan hukum gravitasi Newton) pada titik-titik yang dikehendaki (Gambar 1).\n",
    "\n",
    "![](Gambar/bola.png)"
   ]
  },
  {
   "cell_type": "markdown",
   "metadata": {},
   "source": [
    "Gambar 1. Benda anomali berupa bola yang terpendam di bawah permukaan, hendak dihitung anomali gravitasinya di permukaan dengan nilai F1...FN. Masing-masing memiliki jarak R tertentu untuk masing-masing titik pengukuran F di permukaan, harus dihitung dengan rumus yang sama secara berulang-ulang, dari 1 sampai N."
   ]
  },
  {
   "cell_type": "markdown",
   "metadata": {},
   "source": [
    "Berdasarkan Gambar 1, Besarnya gaya tarik gravitasi pada titik $F_1$, dirumuskan menggunakan Hukum Newton, sebagai berikut"
   ]
  },
  {
   "cell_type": "markdown",
   "metadata": {},
   "source": [
    "<img src=\"https://latex.codecogs.com/svg.latex?\\Large&space;\\vec{g}(F_1)=-\\gamma \\frac{\\frac{4}{3} \\pi a^2 \\rho}{R^2}\\hat{r}\" title=\"\\Large x=\\frac{-b\\pm\\sqrt{b^2-4ac}}{2a}\" />\n"
   ]
  },
  {
   "cell_type": "markdown",
   "metadata": {},
   "source": [
    "dengan $\\gamma$ adalah konstanta gravitasi universal, sebesar $6,67 \\times 10^{-11} m^3.kg^{-1}.s^{-2}$, $\\frac{4}{3}\\pi a^2 \\rho$ adalah masa dari bola pejal, dengan radius 𝑎 dan densitas 𝜌 dan 𝑅 adalah jarak titik pengamatan / perhitungannya.\n",
    "\n",
    "Hayo, bagaimanakah kita dapat menghitung $\\vec{g}$ di tiap-tiap titik pengamatan, F1, F2,... FN?"
   ]
  },
  {
   "cell_type": "markdown",
   "metadata": {},
   "source": [
    "Nah, dalam pemrograman, kita perlu proses perulangan untuk menghitung gaya tarik gravitasional tersebut. Pada Python, kita dapat menggunakan perintah for, dengan sintaks sebagai berikut\n",
    "```python\n",
    "for variabel in sekumpulan info: \n",
    "    do sesuatu dengan variabel\n",
    "```"
   ]
  },
  {
   "cell_type": "markdown",
   "metadata": {},
   "source": [
    "varibel boleh dinamai apa saja, tapi disarankan yang mnemonic, atau berhubungan dengan namanya dan mudah ditebak maksudnya, misalnya kalau itu sebuah indeks, dari 1 sampai n, maka variable bisa dinamai i saja atau kalau missal temperature ya bisa dengan temp, dst. Contoh :"
   ]
  },
  {
   "cell_type": "code",
   "execution_count": 1,
   "metadata": {},
   "outputs": [
    {
     "name": "stdout",
     "output_type": "stream",
     "text": [
      "1\n",
      "2\n",
      "3\n",
      "4\n",
      "5\n",
      "6\n",
      "7\n"
     ]
    }
   ],
   "source": [
    "angka = [1,2,3,4,5,6,7]\n",
    "for nilai in angka:\n",
    "    print(nilai)"
   ]
  },
  {
   "cell_type": "markdown",
   "metadata": {},
   "source": [
    "Programmer  hebat  seperti  Dimitri Komatitsch  senang  membuat variableyang “lugu” sehingga  menjadi Panjang Namanya,tapi  sangat  mudah dan  tidak  perlu  ditebak maksudnya.Python memberikan fungsi built-in yang namanya ```range```,yang menghasilkan sebuah deret  angka  dari  1  ke  N. Fungsi ```range```  dapat  menerima maksimal 3 argumen input (```range(argument_1,argument_2,argument_3)```), dengan aturan sebagai berikut:\n",
    "\n",
    "- Jika  hanya  satu  parameter  diberikan,rangemenghasilkan sekumpulan  (array) sepanjang  nilai  parameter tadi, dimulai  dari  nol  dan  penambahan  sebesar 1. Sebagai teladan, maka perintah ```range(3)``` akan menghasilkan bilangan 0, 1, 2.\n",
    "- Jika diberikan dua parameter, ```range``` akan memulai dengan angka pertama dan berakhir  tepat  sebelum  angka  ke– di parameter  kedua,  dengan  penambahan sebesar 1. Jadi, ```range(2, 5)``` menghasilkan2, 3, 4.\n",
    "- Jika ```range``` diberi sebanyak 3 parameter, dia akan memulai dengan angka pertama, diakhiri dengan   angka   kedua,   dengan   penambahan   sebesar anka   ketiga. Misalnya, ```range(3, 10, 2)``` menghasilkan3, 5, 7, 9. \n",
    "\n",
    "\n",
    "(PDF) Materi Metkom Geofisika. Available from: https://www.researchgate.net/publication/323930962_Materi_Metkom_Geofisika [accessed Mar 22 2019]."
   ]
  },
  {
   "cell_type": "markdown",
   "metadata": {},
   "source": [
    "Contoh-contoh  lebih  banyak  dapat  ditemukan diberbagai  website,  dengan  bantuan Google.Kembali  ke pembahasan  diatas  mengenai perhitungan  yang  berulang,  jadi kita  perlu secara  berulang,  dengan  perintah  for,  untuk  sejumlah  N  titik  data,  hitung  nilai  g.Dari sini,  muncul  masalah  baru,  yaitu  bahwa  kita  memerlukan  sebuah  program  pendek, untuk  menghitung  gaya tarikgravitasinya.Dalam istilah  komputasi,  program  pendek tersebut disebut dengan fungsi (function). \n"
   ]
  },
  {
   "cell_type": "markdown",
   "metadata": {},
   "source": [
    "## Membuat Fungsi (dengan ```def namafungsi:```)"
   ]
  },
  {
   "cell_type": "markdown",
   "metadata": {},
   "source": [
    "Pada Python, definisi sebuah fungsi dibuat memakai kata kunci ```def``` yang diikuti dengan nama  fungsinya,  lantas diikuti  lagi dengan  nama  parameter-parameter  (variable)  fungsi  yang dibatasi dengan tanda kurung.Tubuh dari fungsi tersebut, yang berisi perintah-perintah Python yang harus dieksekusi, harus ditulis menjorok ke kanan sejauh (minimal) 4 spasi. Sebagai  tauladan,  dibawah  ini adalah  sebuah  fungsi  untuk  mengkonversi  dari  skala temperature Fahrenheit ke skala Kelvin: \n"
   ]
  },
  {
   "cell_type": "code",
   "execution_count": 3,
   "metadata": {},
   "outputs": [],
   "source": [
    "def fahrenheit_ke_kelvin(suhu):\n",
    "    return((suhu-32)*(5/9))+273.15"
   ]
  },
  {
   "cell_type": "code",
   "execution_count": 4,
   "metadata": {},
   "outputs": [
    {
     "data": {
      "text/plain": [
       "233.14999999999998"
      ]
     },
     "execution_count": 4,
     "metadata": {},
     "output_type": "execute_result"
    }
   ],
   "source": [
    "fahrenheit_ke_kelvin(-40)"
   ]
  },
  {
   "cell_type": "markdown",
   "metadata": {},
   "source": [
    "Kembali kelap-top ! Untuk itu, perhatikan bagaimana implementasi dari persamaan (1) menjadi sebuah fungsi dalam Python."
   ]
  },
  {
   "cell_type": "code",
   "execution_count": 2,
   "metadata": {},
   "outputs": [],
   "source": [
    "#```--------Program menghitung gaya tarik gravitasi-------------------```\n",
    "#```               benda berbentuk bola                              ```\n",
    "#```------------------------------------------------------------------```\n",
    "gamma = 6.6E-11\n",
    "si2mg = 1.0E5\n",
    "pi = 3.14159265\n",
    "km2m = 1.E3\n",
    "ierror = 0\n",
    "import math\n",
    "import matplotlib.pyplot as plt\n",
    "def bola(xq,yq,zq,a,rho,xp,yp,zp):\n",
    "    #``` titik pengamatan terletak pada koordinat (xq,yq,zq), sementara pusat bola adalah di (xp,yp,zp). Jari-jari bola adalah a\n",
    "    #``` dan densitas adalah rho. Densitas satuannya kg/m^3, jarak dalam km\n",
    "    rx = xp - xq\n",
    "    ry = yp - yq\n",
    "    rz = zp - zq\n",
    "    \n",
    "    r = math.sqrt(math.pow(rx,2)+math.pow(ry,2)+math.pow(rz,2))\n",
    "    \n",
    "    if r == 0:\n",
    "        print(\"R-nya nol, ubah kedalaman!\")\n",
    "        \n",
    "    r3 = math.pow(r,3)\n",
    "    tmass = 4.0 * pi * rho * (math.pow(a,2))/3\n",
    "    gx = -gamma * tmass * rx/r3\n",
    "    gy = -gamma * tmass * ry/r3\n",
    "    gz = -gamma * tmass * rz/r3\n",
    "    \n",
    "    gx = gx * si2mg * km2m\n",
    "    gy = gy * si2mg * km2m\n",
    "    gz = gz * si2mg * km2m\n",
    "    return gx, gy, gz\n"
   ]
  },
  {
   "cell_type": "markdown",
   "metadata": {},
   "source": [
    "Perhatikan bahwa persamaan (1) diimplementasikan secara bertahap, dengan menghitung r nya dulu terhadap setiap titik amat xp, baru dihitung g nya untuk setiap komponen x, y dan z.\n",
    "Untuk memanggilnya, kita masukkan parameter posisi benda dan posisi titik amat, densitas dan jejari bolanya. Misalnya kita ingin menghitung gaya Tarik gravitasi untuk bola dengan jari-jari 0,5 km yang letaknya di posisi x = 0, y = 0 dan kedalaman 2 km, dengan densitas 2600 kg/m3 pada posisi x-amat = 1, y-amat = 1 dan z-amat =0 sebagai berikut"
   ]
  },
  {
   "cell_type": "code",
   "execution_count": 3,
   "metadata": {},
   "outputs": [],
   "source": [
    "gx,gy,gz = bola(0,0,2,0.5,2600,1,1,0)"
   ]
  },
  {
   "cell_type": "code",
   "execution_count": 4,
   "metadata": {},
   "outputs": [
    {
     "data": {
      "text/plain": [
       "2.4453950067143504"
      ]
     },
     "execution_count": 4,
     "metadata": {},
     "output_type": "execute_result"
    }
   ],
   "source": [
    "gz"
   ]
  },
  {
   "cell_type": "markdown",
   "metadata": {},
   "source": [
    "Dengan fungsi ini, sebaran gaya tarik gravitasi pada sebuah luasan tertentu dengan mudah bisa dilakukan. Misalnya jika hendak dihitung gaya gravitasi pada area seluas 100km × 100 km, untuk anomaly yang letaknya di x = 20 km y = -20 km dapat dipanggil"
   ]
  },
  {
   "cell_type": "code",
   "execution_count": 6,
   "metadata": {},
   "outputs": [],
   "source": [
    "from mpl_toolkits import mplot3d\n",
    "from mpl_toolkits.mplot3d import Axes3D\n",
    "from matplotlib import cm\n",
    "from matplotlib.ticker import LinearLocator, FormatStrFormatter\n",
    "import numpy as np\n",
    "\n",
    "x = np.linspace(-50,50,100)\n",
    "y = np.linspace(-50,50,100)\n",
    "X,Y = np.meshgrid(x,y)\n",
    "G=np.zeros((100,100))\n",
    "for i in range(100):\n",
    "    for j in range(100):\n",
    "        gx, gy, gz = bola(20,-20,5,1,2600,X[i,j],Y[i,j],0)\n",
    "        G[i,j]=gz\n"
   ]
  },
  {
   "cell_type": "code",
   "execution_count": 13,
   "metadata": {},
   "outputs": [
    {
     "data": {
      "image/png": "[encoded data removed]",
      "text/plain": [
       "<Figure size 432x288 with 1 Axes>"
      ]
     },
     "metadata": {},
     "output_type": "display_data"
    }
   ],
   "source": [
    "fig = plt.figure()\n",
    "ax = plt.axes(projection='3d')\n",
    "surf = ax.plot_surface(X, Y, G, cmap=cm.coolwarm,linewidth=0, antialiased=False)\n",
    "\n",
    "plt.show()"
   ]
  },
  {
   "cell_type": "markdown",
   "metadata": {},
   "source": [
    "Bagus, khan .. Coba diubah-ubah posisi titik amatnya, dan parameter bolanya.."
   ]
  },
  {
   "cell_type": "code",
   "execution_count": 14,
   "metadata": {},
   "outputs": [
    {
     "ename": "ImportError",
     "evalue": "No module named basemap",
     "output_type": "error",
     "traceback": [
      "\u001b[1;31m---------------------------------------------------------------------------\u001b[0m",
      "\u001b[1;31mImportError\u001b[0m                               Traceback (most recent call last)",
      "\u001b[1;32m<ipython-input-14-d9467465a3b6>\u001b[0m in \u001b[0;36m<module>\u001b[1;34m()\u001b[0m\n\u001b[1;32m----> 1\u001b[1;33m \u001b[1;32mfrom\u001b[0m \u001b[0mmpl_toolkits\u001b[0m\u001b[1;33m.\u001b[0m\u001b[0mbasemap\u001b[0m \u001b[1;32mimport\u001b[0m \u001b[0mBasemap\u001b[0m\u001b[1;33m\u001b[0m\u001b[0m\n\u001b[0m",
      "\u001b[1;31mImportError\u001b[0m: No module named basemap"
     ]
    }
   ],
   "source": [
    "from mpl_toolkits.basemap import Basemap"
   ]
  },
  {
   "cell_type": "code",
   "execution_count": null,
   "metadata": {},
   "outputs": [],
   "source": []
  }
 ],
 "metadata": {
  "kernelspec": {
   "display_name": "Python 2",
   "language": "python",
   "name": "python2"
  },
  "language_info": {
   "codemirror_mode": {
    "name": "ipython",
    "version": 2
   },
   "file_extension": ".py",
   "mimetype": "text/x-python",
   "name": "python",
   "nbconvert_exporter": "python",
   "pygments_lexer": "ipython2",
   "version": "2.7.15"
  }
 },
 "nbformat": 4,
 "nbformat_minor": 2
}
