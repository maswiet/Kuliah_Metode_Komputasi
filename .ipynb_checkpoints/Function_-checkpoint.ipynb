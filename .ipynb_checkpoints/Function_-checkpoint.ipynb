{
 "cells": [
  {
   "cell_type": "markdown",
   "metadata": {},
   "source": [
    "# Perintah Loop dan Membuat Fungsi\n",
    "\n",
    "## Looping dan Keputusan hasil logika (```for end; if then elif else```)\n",
    "\n",
    "Dalam sebuah perhitungan dengan komputer, seringkali kita berhadapan dengan keadaan dimana kita perlu menghitung sesuatu secara berulang. Misalnya, pada saat menghitung nilai medan gravitasi pada sebuah titik akibat adanya benda anomali di bawah permukaan bumi, maka kita perlu mengulang-ulang perhitungan (menggunakan hukum gravitasi Newton) pada titik-titik yang dikehendaki (Gambar 1).\n",
    "\n",
    "![](bola.png)"
   ]
  },
  {
   "cell_type": "markdown",
   "metadata": {},
   "source": [
    "Gambar 1. Benda anomali berupa bola yang terpendam di bawah permukaan, hendak dihitung anomali gravitasinya di permukaan dengan nilai F1...FN. Masing-masing memiliki jarak R tertentu untuk masing-masing titik pengukuran F di permukaan, harus dihitung dengan rumus yang sama secara berulang-ulang, dari 1 sampai N."
   ]
  },
  {
   "cell_type": "markdown",
   "metadata": {},
   "source": [
    "Berdasarkan Gambar 1, Besarnya gaya tarik gravitasi pada titik $F_1$, dirumuskan menggunakan Hukum Newton, sebagai berikut"
   ]
  },
  {
   "cell_type": "markdown",
   "metadata": {},
   "source": [
    "<img src=\"https://latex.codecogs.com/svg.latex?\\Large&space;\\vec{g}(F_1)=-\\gamma \\frac{\\frac{4}{3} \\pi a^2 \\rho}{R^2}\\hat{r}\" title=\"\\Large x=\\frac{-b\\pm\\sqrt{b^2-4ac}}{2a}\" />\n"
   ]
  },
  {
   "cell_type": "markdown",
   "metadata": {},
   "source": [
    "dengan $\\gamma$ adalah konstanta gravitasi universal, sebesar $6,67 \\times 10^{-11} m^3.kg^{-1}.s^{-2}$, $\\frac{4}{3}\\pi a^2 \\rho$ adalah masa dari bola pejal, dengan radius 𝑎 dan densitas 𝜌 dan 𝑅 adalah jarak titik pengamatan / perhitungannya.\n",
    "\n",
    "Hayo, bagaimanakah kita dapat menghitung $\\vec{g}$ di tiap-tiap titik pengamatan, F1, F2,... FN?"
   ]
  },
  {
   "cell_type": "markdown",
   "metadata": {},
   "source": [
    "Nah, dalam pemrograman, kita perlu proses perulangan untuk menghitung gaya tarik gravitasional tersebut. Pada Python, kita dapat menggunakan perintah for, dengan sintaks sebagai berikut\n",
    "```python\n",
    "for variabel in sekumpulan info: \n",
    "    do sesuatu dengan variabel\n",
    "```"
   ]
  },
  {
   "cell_type": "markdown",
   "metadata": {},
   "source": [
    "varibel boleh dinamai apa saja, tapi disarankan yang mnemonic, atau berhubungan dengan namanya dan mudah ditebak maksudnya, misalnya kalau itu sebuah indeks, dari 1 sampai n, maka variable bisa dinamai i saja atau kalau missal temperature ya bisa dengan temp, dst. Contoh :"
   ]
  }
 ],
 "metadata": {
  "kernelspec": {
   "display_name": "Python 2",
   "language": "python",
   "name": "python2"
  },
  "language_info": {
   "name": ""
  }
 },
 "nbformat": 4,
 "nbformat_minor": 2
}
